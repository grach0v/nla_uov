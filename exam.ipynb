{
 "cells": [
  {
   "attachments": {},
   "cell_type": "markdown",
   "metadata": {},
   "source": [
    "# Sheet 0"
   ]
  },
  {
   "attachments": {},
   "cell_type": "markdown",
   "metadata": {},
   "source": [
    "## Fixed point iteration\n",
    "$$x_{k+1} = \\Phi(x_k, b)$$\n",
    "\n",
    "1. **consistent** if for every b the solution $x_\\ast = A^{-1}b$ is fixed point\n",
    "2. **(globally) convergent** if for every $b$ there exists $x_\\ast$ for every starting vector $x_0$ the sequence $x_k$ converges to $x_\\ast$\n",
    "3. **linear** if the iteration mapping has form $$ \\Phi(x, b) = M x + N b$$. $M$ is called iteration matrix\n",
    "4. **symmetric** if it is linear and the matrix $A$ symmetric and $N$ is SPD."
   ]
  },
  {
   "attachments": {},
   "cell_type": "markdown",
   "metadata": {},
   "source": [
    "### Theorem 1\n",
    "The linear fixed point iteration is consistent iff $$M = I - NA $$\n",
    "\n",
    "### Theorem 2\n",
    "Let $\\rho(M) < 1$. Then there exists a unique fixed point $x_\\ast$ and the iteration converges to $x_\\ast$ for any starting value."
   ]
  },
  {
   "attachments": {},
   "cell_type": "markdown",
   "metadata": {},
   "source": [
    "### Splitting\n",
    "$$ A = G - H$$\n",
    "$$ A x_\\ast = b \\rightarrow G x_\\ast = H x_\\ast + b$$\n",
    "Consider $G$ being invertable and denote \n",
    "$$ N = G^{-1} $$"
   ]
  },
  {
   "attachments": {},
   "cell_type": "markdown",
   "metadata": {},
   "source": [
    "1. Gauss elimination\n",
    "2. LU decomposition: $A = L U$ \n",
    "3. Cholesky decomposition: $A = L L^T$\n",
    "4. Richardson  \n",
    "   $ A = G - H = I - (I - A)$  \n",
    "   $ G^{-1} = N = I \\quad M = I - A$  \n",
    "   $ x_{k+1} = x_k + (b - Ax_k) = x_k + r_k$  \n",
    "   Damping parameter  \n",
    "   $x_{k+1} = x_k + \\omega (b - A x_k)$\n",
    "5. Jacobi iteration  \n",
    "   $A = G - H = D - (- L - U)$  \n",
    "   $N = D^{-1}$\n",
    "   $x_{k+1} = x_k + D^{-1}(b - Ax_k) = x_k + D^{-1} r_k$\n",
    "   Damping parameter  \n",
    "   $x_{k+1} = x_k + \\omega D^{-1} (b - A x_k) = x_k + \\omega D^{-1} r_k$          \n",
    "6. Gauss–Seidel method  \n",
    "   $A = L_* + U$  \n",
    "   $L_* x_{k+1} = b - Ux_k$"
   ]
  },
  {
   "attachments": {},
   "cell_type": "markdown",
   "metadata": {},
   "source": [
    "# Sheet 1"
   ]
  },
  {
   "attachments": {},
   "cell_type": "markdown",
   "metadata": {},
   "source": [
    "## Conjugate Gradient Method\n",
    "For direction $p$ best step \n",
    "$\\alpha$ is $\\alpha = \\frac{p^T r}{p^T A p}$  \n",
    "$x^k$ is optimal with respect to direction $p$ iff \n",
    "$\\Phi(x_k) \\leq \\Phi(x_k + \\lambda p) \\quad \\forall \\lambda \\in \\mathbb{R}$  "
   ]
  },
  {
   "attachments": {},
   "cell_type": "markdown",
   "metadata": {},
   "source": [
    "# Sheet 2 "
   ]
  },
  {
   "attachments": {},
   "cell_type": "markdown",
   "metadata": {},
   "source": [
    "## Power method\n",
    "$q_k = \\frac{A^k q_0}{\\| A^k q_0\\|}$ \n",
    "## QR method\n",
    "### QR decomposition\n",
    "$A = QR \\quad Q^T = Q^{-1}, \\:\\: R - \\text{upper triangular}$\n",
    "### QR Algorithm\n",
    "Given $Q_0$ and setting $T_0 = Q_0^T A Q_0$  \n",
    "QR Iteration is \n",
    "1. Determine $Q_k, R_k$ such that $Q_k R_k = T_{k-1}$\n",
    "2. $T_k = R_k Q_k$"
   ]
  },
  {
   "cell_type": "code",
   "execution_count": null,
   "metadata": {},
   "outputs": [],
   "source": [
    "import numpy as np\n",
    "import matplotlib.pyplot as plt\n",
    "import scipy.stats as ss\n",
    "from numba import njit"
   ]
  },
  {
   "cell_type": "code",
   "execution_count": null,
   "metadata": {},
   "outputs": [],
   "source": [
    "# Task 8\n",
    "def power_method(A, q=None, n_iters=100):\n",
    "    n = len(A)\n",
    "\n",
    "    if q is None:\n",
    "        q = np.ones(n)\n",
    "\n",
    "    eigen_values = np.zeros(n_iters)\n",
    "    for i in range(n_iters):\n",
    "        z = A @ q\n",
    "        q = z / np.linalg.norm(z)\n",
    "        eigen_values[i] = q @ A @ q\n",
    "    \n",
    "    return eigen_values"
   ]
  },
  {
   "cell_type": "code",
   "execution_count": null,
   "metadata": {},
   "outputs": [],
   "source": [
    "n = 100\n",
    "A = ss.uniform.rvs(size=n ** 2, random_state=42).reshape(n, n)\n",
    "eigen_value_history = power_method(A)\n",
    "stable_idx = np.argmin(np.abs(eigen_value_history[1:] - eigen_value_history[:-1])) + 1\n",
    "stable_eigenval = eigen_value_history[stable_idx]\n",
    "plt.title('Eigenvalue history')\n",
    "plt.yscale('log')\n",
    "plt.xlabel('iteration')\n",
    "plt.ylabel('eigenvalue estimation')\n",
    "plt.plot(range(stable_idx + 5), eigen_value_history[:stable_idx + 5])\n",
    "plt.show()\n",
    "plt.title('Eigenvalue deviation history')\n",
    "plt.yscale('log')\n",
    "plt.xlabel('iteration')\n",
    "plt.ylabel('eigenvalue deviation')\n",
    "plt.plot(range(len(eigen_value_history)), np.abs(eigen_value_history - stable_eigenval))\n",
    "plt.show()"
   ]
  },
  {
   "cell_type": "code",
   "execution_count": null,
   "metadata": {},
   "outputs": [],
   "source": [
    "# Task 9\n",
    "def basic_qr(A, n_iter=100):\n",
    "    T_hist = np.zeros((n_iter + 1, *A.shape))\n",
    "\n",
    "    T_hist[0] = A.copy()\n",
    "    for i in range(n_iter):\n",
    "        Q, R = np.linalg.qr(T_hist[i])\n",
    "        T_hist[i + 1] = R @ Q\n",
    "    \n",
    "    return T_hist\n",
    "n = 100\n",
    "A = ss.uniform.rvs(size=n ** 2, random_state=42).reshape(n, n)\n",
    "T_hist = basic_qr(A, n_iter=100)\n",
    "n_diag = 5\n",
    "diag_hist = T_hist.diagonal(axis1=1, axis2=2)[:, :n_diag]\n",
    "for i in range(n_diag):\n",
    "    plt.plot(range(len(diag_hist)), diag_hist[:, i], label=f'{i}')\n",
    "\n",
    "plt.legend()\n",
    "plt.show()"
   ]
  },
  {
   "cell_type": "code",
   "execution_count": null,
   "metadata": {},
   "outputs": [],
   "source": [
    "stable_idx = np.argmin(np.abs(diag_hist[1:] - diag_hist[:-1]), axis=0)\n",
    "stable_eigenval = diag_hist.take(stable_idx)\n",
    "n_diag = 5\n",
    "diag_hist = T_hist.diagonal(axis1=1, axis2=2)[:, :n_diag]\n",
    "\n",
    "plt.yscale('log')\n",
    "for i in range(n_diag):\n",
    "    plt.plot(range(len(diag_hist)), diag_hist[:, i] - stable_eigenval[i], label=f'{i}')\n",
    "\n",
    "plt.legend()\n",
    "plt.show()"
   ]
  },
  {
   "cell_type": "code",
   "execution_count": null,
   "metadata": {},
   "outputs": [],
   "source": [
    "T_hist = basic_qr(A, n_iter=5000)\n",
    "T_hist = T_hist > 1e-10\n",
    "for i in [100, 500, 1000, 5000]:\n",
    "    print(i)\n",
    "    plt.matshow(T_hist[i])\n",
    "A = (A + A.T) / 2\n",
    "T_hist = basic_qr(A, n_iter=100)"
   ]
  },
  {
   "cell_type": "code",
   "execution_count": null,
   "metadata": {},
   "outputs": [],
   "source": [
    "n_diag = 5\n",
    "diag_hist = T_hist.diagonal(axis1=1, axis2=2)[:, :n_diag]\n",
    "for i in range(n_diag):\n",
    "    plt.plot(range(len(diag_hist)), diag_hist[:, i], label=f'{i}')\n",
    "\n",
    "plt.legend()\n",
    "plt.show()"
   ]
  },
  {
   "cell_type": "code",
   "execution_count": null,
   "metadata": {},
   "outputs": [],
   "source": [
    "stable_idx = np.argmin(np.abs(diag_hist[1:] - diag_hist[:-1]), axis=0)\n",
    "stable_eigenval = diag_hist.take(stable_idx)\n",
    "n_diag = 5\n",
    "diag_hist = T_hist.diagonal(axis1=1, axis2=2)[:, :n_diag]\n",
    "\n",
    "plt.yscale('log')\n",
    "for i in range(n_diag):\n",
    "    plt.plot(range(len(diag_hist)), diag_hist[:, i] - stable_eigenval[i], label=f'{i}')\n",
    "\n",
    "plt.legend()\n",
    "plt.show()"
   ]
  },
  {
   "cell_type": "code",
   "execution_count": null,
   "metadata": {},
   "outputs": [],
   "source": [
    "T_hist = basic_qr(A, n_iter=5000)\n",
    "T_hist = T_hist > 1e-10\n",
    "for i in [100, 500, 1000, 5000]:\n",
    "    print(i)\n",
    "    plt.matshow(T_hist[i])\n"
   ]
  },
  {
   "attachments": {},
   "cell_type": "markdown",
   "metadata": {},
   "source": [
    "# Sheet 4\n",
    "upper Hesenberg form  \n",
    "$$\n",
    "H=\\left(\\begin{array}{ccccc}\n",
    "h_{11} & h_{12} & h_{13} & \\cdots & h_{1 n} \\\\\n",
    "h_{21} & h_{22} & h_{23} & \\cdots & h_{2 n} \\\\\n",
    "0 & h_{32} & h_{33} & \\cdots & h_{3 n} \\\\\n",
    "\\vdots & \\ddots & \\ddots & \\ddots & \\vdots \\\\\n",
    "0 & \\cdots & 0 & h_{n n-1} & h_{n n}\n",
    "\\end{array}\\right)\n",
    "$$\n",
    "$T_0$ should be Hesenberg matrix.  \n",
    "To get this Householder transformations are used.  \n",
    "To perform QR factorisation of $T$ Givens rotations are used.  \n",
    "# Householder transformation\n",
    "$$ P = I - 2 v v^T / \\|v\\|_2^2 $$\n",
    "$Px$ reflection of x with respect to the hyperplane $\\pi = \\mathrm{span}\\{v\\}^{\\perp}$  \n",
    "Can set to 0 a block of components of $x$.  \n",
    "Example: \n",
    "1. Set to zero everything but the $m$-th.  \n",
    "   $$ v = x \\pm \\| x \\|  e_m$$\n",
    "2. First k components of $x$ remain unaltered, $k+2$ and so on are to be set to zero\n",
    "   $$ P_k = \\begin{bmatrix} I_k & 0 \\\\ 0 & R_{n - k} \\end{bmatrix} $$\n",
    "   $$R_{n-k} - \\text{set everything to 0 but the first element}$$\n",
    "## Given's rotation\n",
    "$ G(i, k, \\theta) $ rotates $x$ counterclockwise by angle $\\theta$ in the plane $x_i, x_j$.\n",
    "## Reducing matrix in Hessenberg form\n",
    "$k$-th step consists of setting to zero the elements in positions $k+2, \\ldots, n$ of the $k$-th column of A for $k = 1, \\ldots , n - 2$.\n",
    "\n",
    "$$ A_k = P^T_k A_{k - 1} P_k = (P_{k} \\ldots P_1)^T A (P_{k} \\ldots P_1) = Q^T_k A Q_k$$\n",
    "\n",
    "$P_k$ leaves first $k$ components untouched of vector $x$ which is $k$-th column of in matrix $A_{k-1}$.\n",
    "$P_k^T A_{k-1}$ leaves first $k$ rows of $A_{k-1} $ unchanged. \n",
    "We can manually check that it leads to upper Hessenberg form in $n-2$ iterations.\n",
    "## QR method for Hesenberg form\n",
    "$$Q_k^T H_{k-1} = (G_{n-1}^k)^T \\ldots (G_1^k)^T H_{k-1} = R_k$$\n",
    "$$ H_k = R_k Q_k$$\n",
    "\n",
    "$\\theta_j$ is choosen in such way that entry of indicies $(j + 1, j)$ is set to zero in the plane $j+1, j$.\n",
    "# Shifted QR\n",
    "1. $Q_k R_k = T_{k-1} - \\mu I$\n",
    "2. $T_k = R_k Q_k + \\mu I$"
   ]
  },
  {
   "cell_type": "code",
   "execution_count": null,
   "metadata": {},
   "outputs": [],
   "source": [
    "# Task 10\n",
    "A = np.array(\n",
    "    [\n",
    "        [13, 4, 3, 9],\n",
    "        [-1, -8, 5, 0],\n",
    "        [2, 3, 8, 1],\n",
    "        [6, -2, 0, 4],\n",
    "    ],\n",
    "    dtype=np.float64    \n",
    ")"
   ]
  },
  {
   "cell_type": "code",
   "execution_count": null,
   "metadata": {},
   "outputs": [],
   "source": [
    "def vhouse(x):\n",
    "    x = x / np.linalg.norm(x)\n",
    "    s = x[1:] @ x[1:]\n",
    "    v = np.array([1, *x[1:]]) \n",
    "    if s < 1e-12:\n",
    "        beta = 0\n",
    "    else:\n",
    "        if x[0] <= 0:\n",
    "            v[0] = x[0] - 1\n",
    "        else:\n",
    "            v[0] = -s / (x[0] + 1)\n",
    "\n",
    "        beta = 2 * (v[0] ** 2) / (s + v[0] ** 2)\n",
    "        v /= v[0]\n",
    "\n",
    "    return v, beta    "
   ]
  },
  {
   "cell_type": "code",
   "execution_count": null,
   "metadata": {},
   "outputs": [],
   "source": [
    "def householder_method(A):\n",
    "    n = max(A.shape)\n",
    "    Q = np.eye(n)\n",
    "    H = A.copy()\n",
    "\n",
    "    for k in range(n - 2):\n",
    "        v, beta = vhouse(H[k + 1: , k])\n",
    "        I = np.eye(k + 1)\n",
    "        N = np.zeros((k + 1, n - k - 1))\n",
    "        \n",
    "        m = len(v)\n",
    "        v = v.reshape(m, 1)\n",
    "\n",
    "        # print('v', v)\n",
    "\n",
    "        R = np.eye(m) - beta * v @ v.T\n",
    "        H[k + 1:, k:] = R @ H[k + 1:, k:]\n",
    "        H[:, k + 1: n] = H[:, k + 1: n] @ R\n",
    "        P = np.block([[I, N], [N.T, R]])\n",
    "        \n",
    "        # print('k', k)\n",
    "        # print('P', *P.round(2), sep='\\n')\n",
    "\n",
    "        Q = Q @ P\n",
    "\n",
    "    return H, Q"
   ]
  },
  {
   "cell_type": "code",
   "execution_count": null,
   "metadata": {},
   "outputs": [],
   "source": [
    "import numpy as np\n",
    "from numpy.linalg import norm\n",
    "from numpy import eye"
   ]
  },
  {
   "cell_type": "code",
   "execution_count": null,
   "metadata": {},
   "outputs": [],
   "source": [
    "def vhouse(x, epsilon = 10e-12):\n",
    "    y = norm(x)\n",
    "    x /= y \n",
    "    \n",
    "    s = x[1:]@x[1:]\n",
    "    v = np.array([1, *x[1:]])\n",
    "    #mu = sqrt(x0^2+s) so it is always one, we removed it from the code\n",
    "    if s <= epsilon:\n",
    "        beta = 0\n",
    "    else:\n",
    "        if x[0] <= 0:\n",
    "            v[0] = x[0] - 1\n",
    "        else:\n",
    "            v[0] = - s/(x[0] + 1)\n",
    "    \n",
    "        beta = 2*(v[0]**2)/(s + v[0]**2)\n",
    "        v /= v[0]\n",
    "\n",
    "    return v, beta"
   ]
  },
  {
   "cell_type": "code",
   "execution_count": null,
   "metadata": {},
   "outputs": [],
   "source": [
    "def househess(A):\n",
    "    n = max(A.shape)\n",
    "    Q = eye(n)\n",
    "    H = A.copy()\n",
    "    for k in range(n - 2):\n",
    "        v, beta = vhouse(H[k+1:,k])\n",
    "        m = len(v)\n",
    "        \n",
    "        v = np.reshape(v, (m, 1))\n",
    "        R = eye(m) - beta*v@v.T\n",
    "\n",
    "        H[k+1:, k:]= R@H[k+1:,k:]\n",
    "        H[:,k+1:] = H[:,k+1:]@R\n",
    "\n",
    "        nm = n -m\n",
    "\n",
    "        Q[nm:, nm:] = Q[nm:,nm:]@R\n",
    "        Q[:nm, nm:] = Q[:nm,nm:]@R\n",
    "\n",
    "    return H, Q"
   ]
  },
  {
   "cell_type": "code",
   "execution_count": null,
   "metadata": {},
   "outputs": [],
   "source": [
    "\n",
    "def househess_sym(A):\n",
    "    n = max(A.shape)\n",
    "    Q = eye(n)\n",
    "    H = A.copy()\n",
    "    for k in range(n - 2):\n",
    "        v, beta = vhouse(H[k+1:,k])\n",
    "        m = len(v)\n",
    "\n",
    "        v = np.reshape(v, (m,1))\n",
    "        R = eye(m) - beta*v@v.T\n",
    "\n",
    "        # Save time by computing only one square block and a row\n",
    "        H[k, k+1:] = H[k, k+1:]@R\n",
    "        H[k+1:,k] = H[k, k+1:].T\n",
    "        H[k+1:,k+1:] = R@H[k+1:,k+1:]@R\n",
    "\n",
    "        nm = n -m\n",
    "\n",
    "        Q[nm:, nm:] = Q[nm:,nm:]@R\n",
    "        Q[:nm, nm:] = Q[:nm,nm:]@R\n",
    "\n",
    "\n",
    "    return H, Q"
   ]
  },
  {
   "cell_type": "code",
   "execution_count": null,
   "metadata": {},
   "outputs": [],
   "source": [
    "H, Q = househess(A)\n",
    "print('H', *H.round(2), sep='\\n')\n",
    "print('Q', *Q.round(2), sep='\\n')"
   ]
  },
  {
   "cell_type": "code",
   "execution_count": null,
   "metadata": {},
   "outputs": [],
   "source": [
    "H, Q = householder_method(A)\n",
    "print('H', *H.round(2), sep='\\n')\n",
    "print('Q', *Q.round(2), sep='\\n')"
   ]
  },
  {
   "cell_type": "code",
   "execution_count": null,
   "metadata": {},
   "outputs": [],
   "source": [
    "plt.matshow(np.abs(Q.T @ A @ Q - H) > 1e-10)\n",
    "plt.show()"
   ]
  },
  {
   "cell_type": "code",
   "execution_count": null,
   "metadata": {},
   "outputs": [],
   "source": [
    "A = np.array(\n",
    "    [\n",
    "        [4, 3, 2, 1],\n",
    "        [3, 4, 3, 2],\n",
    "        [2, 3, 4, 3],\n",
    "        [1, 2, 3, 4],\n",
    "    ],\n",
    "    dtype=np.float64\n",
    ")\n",
    "H, Q = householder_method(A)\n",
    "print('H', *H.round(2), sep='\\n')\n",
    "print('Q', *Q.round(2), sep='\\n')\n",
    "plt.matshow(np.abs(Q.T @ A @ Q - H) > 1e-10)\n",
    "plt.show()"
   ]
  },
  {
   "cell_type": "code",
   "execution_count": null,
   "metadata": {},
   "outputs": [],
   "source": [
    "\n",
    "# Task 11\n",
    "def givcos(xi, xk, eps=1e-12):\n",
    "    if (np.abs(xk) < eps):\n",
    "        c = 1\n",
    "        s = 0\n",
    "    else:\n",
    "        if np.abs(xk) > np.abs(xi):\n",
    "            t = -xi / xk\n",
    "            s = 1 / np.sqrt(1 + t ** 2)\n",
    "            c = s * t\n",
    "        else:\n",
    "            t = -xk / xi \n",
    "            c = 1 / np.sqrt(1 + t ** 2)\n",
    "            s = c * t\n",
    "    \n",
    "    return c, s\n",
    "def garrow(M, c, s, j1, j2, i, k):\n",
    "    for j in range(j1, j2 + 1):\n",
    "        t1 = M[j, i]\n",
    "        t2 = M[j, k]\n",
    "        M[j, i] = c * t1 - s * t2\n",
    "        M[j, k] = s * t1 + c * t2\n",
    "    \n",
    "    return M\n",
    "def gacol(M, c, s, j1, j2, i, k):\n",
    "    for j in range(j1, j2 + 1):\n",
    "        t1 = M[j, i]\n",
    "        t2 = M[j, k]\n",
    "        M[j, i] = c * t1 - s * t2\n",
    "        M[j, k] = s * t1 + c * t2\n",
    "    \n",
    "    return M\n",
    "def progdiv(c, s, n):\n",
    "    n1 = n - 1\n",
    "    n2 = n - 2\n",
    "    Q = np.eye(n)\n",
    "    Q[n1 - 1, n1 - 1] = c[n1 - 1]\n",
    "    Q[n - 1, n - 1] = c[n1 - 1]\n",
    "    Q[n1 - 1, n - 1] = s[n1 - 1]\n",
    "    Q[n - 1, n1 - 1] = -s[n1 - 1]\n",
    "\n",
    "    for k in range(n2 + 1, 0, -1):\n",
    "        k1 = k + 1\n",
    "        Q[k - 1, k - 1] = c[k - 1]\n",
    "        Q[k1 - 1, k - 1] = -s[k - 1]\n",
    "        q = Q[k1 - 1, k1 - 1:]\n",
    "        Q[k - 1, k1 - 1:] = s[k - 1] * q\n",
    "        Q[k1 - 1, k1 - 1:] = c[k - 1] * 1\n",
    "\n",
    "    return Q\n",
    "def qrgivens(H):\n",
    "    m, n = H.shape\n",
    "    c = np.zeros(n - 1)\n",
    "    s = np.zeros(n - 1)\n",
    "\n",
    "    for k in range(n - 2):\n",
    "        c[k], s[k] = givcos(H[k, k], H[k + 1, k])\n",
    "        H = garrow(H, c[k], s[k], k, k + 1, k, n - 1)\n",
    "    \n",
    "    R = H.copy()\n",
    "    Q = progdiv(c, s, n)\n",
    "\n",
    "    return Q, R, c, s\n",
    "\n",
    "def hessqr(A, n_iter):\n",
    "    T, Q = householder_method(A)\n",
    "    n = max(A.shape)\n",
    "\n",
    "    for j in range(n_iter):\n",
    "        Q, R, c, s = qrgivens(T)\n",
    "        T = R.copy()\n",
    "\n",
    "        for k in range(n - 1):\n",
    "            T = gacol(T, c[k], s[k], 0, k + 1, k, k + 1)\n",
    "\n",
    "    return T, Q, R\n",
    "T, Q, R = hessqr(A, 10)\n",
    "print(*T.round(2), sep='\\n')\n",
    "print(*Q.round(2), sep='\\n')\n",
    "print(*R.round(2), sep='\\n')"
   ]
  },
  {
   "cell_type": "code",
   "execution_count": null,
   "metadata": {},
   "outputs": [],
   "source": []
  }
 ],
 "metadata": {
  "language_info": {
   "name": "python"
  },
  "orig_nbformat": 4
 },
 "nbformat": 4,
 "nbformat_minor": 2
}
