{
 "cells": [
  {
   "attachments": {},
   "cell_type": "markdown",
   "metadata": {},
   "source": [
    "# Sheet 0"
   ]
  },
  {
   "attachments": {},
   "cell_type": "markdown",
   "metadata": {},
   "source": [
    "1. Gauss elimination\n",
    "2. LU decomposition: $A = L U$ \n",
    "3. Cholesky decomposition: $A = L L^T$\n",
    "4. Richardson  \n",
    "   $x_{k+1} = x_k + \\omega (b - A x_k)$\n",
    "5. Jacobi iteration  \n",
    "   $A = D + L + U$  \n",
    "   $x_{k+1} = D^{-1} (b - (L + U)x^k)$\n",
    "6. Gauss–Seidel method  \n",
    "   $A = L_* + U$  \n",
    "   $L_* x_{k+1} = b - Ux_k$"
   ]
  },
  {
   "attachments": {},
   "cell_type": "markdown",
   "metadata": {},
   "source": [
    "# Sheet 1"
   ]
  },
  {
   "attachments": {},
   "cell_type": "markdown",
   "metadata": {},
   "source": []
  }
 ],
 "metadata": {
  "language_info": {
   "name": "python"
  },
  "orig_nbformat": 4
 },
 "nbformat": 4,
 "nbformat_minor": 2
}
