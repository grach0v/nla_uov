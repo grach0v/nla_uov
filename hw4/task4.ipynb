{
 "cells": [
  {
   "cell_type": "code",
   "execution_count": 51,
   "metadata": {},
   "outputs": [],
   "source": [
    "import numpy as np\n",
    "import matplotlib.pyplot as plt\n",
    "import scipy"
   ]
  },
  {
   "attachments": {},
   "cell_type": "markdown",
   "metadata": {},
   "source": [
    "# Task 10"
   ]
  },
  {
   "cell_type": "code",
   "execution_count": 94,
   "metadata": {},
   "outputs": [],
   "source": [
    "A = np.array(\n",
    "    [\n",
    "        [13, 4, 3, 9],\n",
    "        [-1, -8, 5, 0],\n",
    "        [2, 3, 8, 1],\n",
    "        [6, -2, 0, 4],\n",
    "    ],\n",
    "    dtype=np.float64    \n",
    ")"
   ]
  },
  {
   "cell_type": "code",
   "execution_count": 95,
   "metadata": {},
   "outputs": [],
   "source": [
    "# A = np.array([[1 / (i + j + 1) for j in range(4)] for i in range(4)])"
   ]
  },
  {
   "cell_type": "code",
   "execution_count": 96,
   "metadata": {},
   "outputs": [],
   "source": [
    "def vhouse(x):\n",
    "    x = x / np.linalg.norm(x)\n",
    "    s = x[1:] @ x[1:]\n",
    "    v = np.array([1, *x[1:]]) \n",
    "    if s < 1e-12:\n",
    "        beta = 0\n",
    "    else:\n",
    "        if x[0] <= 0:\n",
    "            v[0] = x[0] - 1\n",
    "        else:\n",
    "            v[0] = -s / (x[0] + 1)\n",
    "\n",
    "        beta = 2 * (v[0] ** 2) / (s + v[0] ** 2)\n",
    "        v /= v[0]\n",
    "\n",
    "    return v, beta    "
   ]
  },
  {
   "cell_type": "code",
   "execution_count": 134,
   "metadata": {},
   "outputs": [],
   "source": [
    "def householder_method(A):\n",
    "    n = max(A.shape)\n",
    "    Q = np.eye(n)\n",
    "    H = A.copy()\n",
    "\n",
    "    for k in range(n - 2):\n",
    "        v, beta = vhouse(H[k + 1: , k])\n",
    "        I = np.eye(k + 1)\n",
    "        N = np.zeros((k + 1, n - k - 1))\n",
    "        \n",
    "        m = len(v)\n",
    "        v = v.reshape(m, 1)\n",
    "\n",
    "        # print('v', v)\n",
    "\n",
    "        R = np.eye(m) - beta * v @ v.T\n",
    "        H[k + 1:, k:] = R @ H[k + 1:, k:]\n",
    "        H[:, k + 1: n] = H[:, k + 1: n] @ R\n",
    "        P = np.block([[I, N], [N.T, R]])\n",
    "        \n",
    "        # print('k', k)\n",
    "        # print('P', *P.round(2), sep='\\n')\n",
    "\n",
    "        Q = Q @ P\n",
    "\n",
    "    return H, Q"
   ]
  },
  {
   "cell_type": "code",
   "execution_count": 135,
   "metadata": {},
   "outputs": [],
   "source": [
    "import numpy as np\n",
    "from numpy.linalg import norm\n",
    "from numpy import eye\n",
    "\n",
    "\n",
    "def vhouse(x, epsilon = 10e-12):\n",
    "    y = norm(x)\n",
    "    x /= y \n",
    "    \n",
    "    s = x[1:]@x[1:]\n",
    "    v = np.array([1, *x[1:]])\n",
    "    #mu = sqrt(x0^2+s) so it is always one, we removed it from the code\n",
    "    if s <= epsilon:\n",
    "        beta = 0\n",
    "    else:\n",
    "        if x[0] <= 0:\n",
    "            v[0] = x[0] - 1\n",
    "        else:\n",
    "            v[0] = - s/(x[0] + 1)\n",
    "    \n",
    "        beta = 2*(v[0]**2)/(s + v[0]**2)\n",
    "        v /= v[0]\n",
    "\n",
    "    return v, beta\n",
    "\n",
    "\n",
    "def househess(A):\n",
    "    n = max(A.shape)\n",
    "    Q = eye(n)\n",
    "    H = A.copy()\n",
    "    for k in range(n - 2):\n",
    "        v, beta = vhouse(H[k+1:,k])\n",
    "        m = len(v)\n",
    "        \n",
    "        v = np.reshape(v, (m, 1))\n",
    "        R = eye(m) - beta*v@v.T\n",
    "\n",
    "        H[k+1:, k:]= R@H[k+1:,k:]\n",
    "        H[:,k+1:] = H[:,k+1:]@R\n",
    "\n",
    "        nm = n -m\n",
    "\n",
    "        Q[nm:, nm:] = Q[nm:,nm:]@R\n",
    "        Q[:nm, nm:] = Q[:nm,nm:]@R\n",
    "\n",
    "    return H, Q\n",
    "\n",
    "def househess_sym(A):\n",
    "    n = max(A.shape)\n",
    "    Q = eye(n)\n",
    "    H = A.copy()\n",
    "    for k in range(n - 2):\n",
    "        v, beta = vhouse(H[k+1:,k])\n",
    "        m = len(v)\n",
    "\n",
    "        v = np.reshape(v, (m,1))\n",
    "        R = eye(m) - beta*v@v.T\n",
    "\n",
    "        # Save time by computing only one square block and a row\n",
    "        H[k, k+1:] = H[k, k+1:]@R\n",
    "        H[k+1:,k] = H[k, k+1:].T\n",
    "        H[k+1:,k+1:] = R@H[k+1:,k+1:]@R\n",
    "\n",
    "        nm = n -m\n",
    "\n",
    "        Q[nm:, nm:] = Q[nm:,nm:]@R\n",
    "        Q[:nm, nm:] = Q[:nm,nm:]@R\n",
    "\n",
    "\n",
    "    return H, Q"
   ]
  },
  {
   "cell_type": "code",
   "execution_count": 136,
   "metadata": {},
   "outputs": [
    {
     "name": "stdout",
     "output_type": "stream",
     "text": [
      "H\n",
      "[13.    8.75  4.98 -2.16]\n",
      "[ 1.    4.29  1.05 -0.08]\n",
      "[ 0.    1.   -2.08  8.93]\n",
      "[0.   0.   7.84 1.79]\n",
      "Q\n",
      "[1. 0. 0. 0.]\n",
      "[ 0.   -0.16  0.91 -0.39]\n",
      "[0.   0.31 0.42 0.85]\n",
      "[ 0.    0.94  0.01 -0.35]\n"
     ]
    }
   ],
   "source": [
    "H, Q = househess(A)\n",
    "print('H', *H.round(2), sep='\\n')\n",
    "print('Q', *Q.round(2), sep='\\n')"
   ]
  },
  {
   "cell_type": "code",
   "execution_count": 137,
   "metadata": {},
   "outputs": [
    {
     "name": "stdout",
     "output_type": "stream",
     "text": [
      "H\n",
      "[13.    8.75  4.98 -2.16]\n",
      "[ 1.    4.29  1.05 -0.08]\n",
      "[ 0.    1.   -2.08  8.93]\n",
      "[0.   0.   7.84 1.79]\n",
      "Q\n",
      "[1. 0. 0. 0.]\n",
      "[ 0.   -0.16  0.91 -0.39]\n",
      "[0.   0.31 0.42 0.85]\n",
      "[ 0.    0.94  0.01 -0.35]\n"
     ]
    }
   ],
   "source": [
    "H, Q = householder_method(A)\n",
    "print('H', *H.round(2), sep='\\n')\n",
    "print('Q', *Q.round(2), sep='\\n')"
   ]
  },
  {
   "cell_type": "code",
   "execution_count": 138,
   "metadata": {},
   "outputs": [
    {
     "data": {
      "text/plain": [
       "array([[13.  ,  8.75, -4.98,  2.16],\n",
       "       [ 6.4 ,  4.29, -1.05,  0.08],\n",
       "       [ 0.  , -3.84, -2.08,  8.93],\n",
       "       [ 0.  ,  0.  ,  7.84,  1.79]])"
      ]
     },
     "execution_count": 138,
     "metadata": {},
     "output_type": "execute_result"
    }
   ],
   "source": [
    "scipy.linalg.hessenberg(A).round(2)"
   ]
  },
  {
   "cell_type": "code",
   "execution_count": 139,
   "metadata": {},
   "outputs": [
    {
     "data": {
      "image/png": "[encoded data removed]",
      "text/plain": [
       "<Figure size 480x480 with 1 Axes>"
      ]
     },
     "metadata": {},
     "output_type": "display_data"
    }
   ],
   "source": [
    "plt.matshow(np.abs(Q.T @ A @ Q - H) > 1e-10)\n",
    "plt.show()"
   ]
  },
  {
   "cell_type": "code",
   "execution_count": 140,
   "metadata": {},
   "outputs": [],
   "source": [
    "A = np.array(\n",
    "    [\n",
    "        [4, 3, 2, 1],\n",
    "        [3, 4, 3, 2],\n",
    "        [2, 3, 4, 3],\n",
    "        [1, 2, 3, 4],\n",
    "    ],\n",
    "    dtype=np.float64\n",
    ")"
   ]
  },
  {
   "cell_type": "code",
   "execution_count": 141,
   "metadata": {},
   "outputs": [
    {
     "name": "stdout",
     "output_type": "stream",
     "text": [
      "H\n",
      "[4.   3.74 0.   0.  ]\n",
      "[1.   8.29 2.6  0.  ]\n",
      "[0.   1.   3.04 0.23]\n",
      "[0.   0.   0.23 0.67]\n",
      "Q\n",
      "[1. 0. 0. 0.]\n",
      "[ 0.    0.8  -0.5   0.33]\n",
      "[ 0.    0.53  0.35 -0.77]\n",
      "[0.   0.27 0.79 0.55]\n"
     ]
    }
   ],
   "source": [
    "H, Q = householder_method(A)\n",
    "print('H', *H.round(2), sep='\\n')\n",
    "print('Q', *Q.round(2), sep='\\n')"
   ]
  },
  {
   "cell_type": "code",
   "execution_count": 142,
   "metadata": {},
   "outputs": [
    {
     "data": {
      "image/png": "[encoded data removed]",
      "text/plain": [
       "<Figure size 480x480 with 1 Axes>"
      ]
     },
     "metadata": {},
     "output_type": "display_data"
    }
   ],
   "source": [
    "plt.matshow(np.abs(Q.T @ A @ Q - H) > 1e-10)\n",
    "plt.show()"
   ]
  },
  {
   "attachments": {},
   "cell_type": "markdown",
   "metadata": {},
   "source": [
    "# Task 11"
   ]
  },
  {
   "cell_type": "code",
   "execution_count": 143,
   "metadata": {},
   "outputs": [],
   "source": [
    "def givcos(xi, xk, eps=1e-12):\n",
    "    if (np.abs(xk) < eps):\n",
    "        c = 1\n",
    "        s = 0\n",
    "    else:\n",
    "        if np.abs(xk) > np.abs(xi):\n",
    "            t = -xi / xk\n",
    "            s = 1 / np.sqrt(1 + t ** 2)\n",
    "            c = s * t\n",
    "        else:\n",
    "            t = -xk / xi \n",
    "            c = 1 / np.sqrt(1 + t ** 2)\n",
    "            s = c * t\n",
    "    \n",
    "    return c, s"
   ]
  },
  {
   "cell_type": "code",
   "execution_count": 144,
   "metadata": {},
   "outputs": [],
   "source": [
    "def garrow(M, c, s, j1, j2, i, k):\n",
    "    for j in range(j1, j2 + 1):\n",
    "        t1 = M[j, i]\n",
    "        t2 = M[j, k]\n",
    "        M[j, i] = c * t1 - s * t2\n",
    "        M[j, k] = s * t1 + c * t2\n",
    "    \n",
    "    return M"
   ]
  },
  {
   "cell_type": "code",
   "execution_count": 145,
   "metadata": {},
   "outputs": [],
   "source": [
    "def gacol(M, c, s, j1, j2, i, k):\n",
    "    for j in range(j1, j2 + 1):\n",
    "        t1 = M[j, i]\n",
    "        t2 = M[j, k]\n",
    "        M[j, i] = c * t1 - s * t2\n",
    "        M[j, k] = s * t1 + c * t2\n",
    "    \n",
    "    return M"
   ]
  },
  {
   "cell_type": "code",
   "execution_count": 146,
   "metadata": {},
   "outputs": [],
   "source": [
    "def progdiv(c, s, n):\n",
    "    n1 = n - 1\n",
    "    n2 = n - 2\n",
    "    Q = np.eye(n)\n",
    "    Q[n1 - 1, n1 - 1] = c[n1 - 1]\n",
    "    Q[n - 1, n - 1] = c[n1 - 1]\n",
    "    Q[n1 - 1, n - 1] = s[n1 - 1]\n",
    "    Q[n - 1, n1 - 1] = -s[n1 - 1]\n",
    "\n",
    "    for k in range(n2 + 1, 0, -1):\n",
    "        k1 = k + 1\n",
    "        Q[k - 1, k - 1] = c[k - 1]\n",
    "        Q[k1 - 1, k - 1] = -s[k - 1]\n",
    "        q = Q[k1 - 1, k1 - 1:]\n",
    "        Q[k - 1, k1 - 1:] = s[k - 1] * q\n",
    "        Q[k1 - 1, k1 - 1:] = c[k - 1] * 1\n",
    "\n",
    "    return Q"
   ]
  },
  {
   "cell_type": "code",
   "execution_count": 147,
   "metadata": {},
   "outputs": [],
   "source": [
    "def qrgivens(H):\n",
    "    m, n = H.shape\n",
    "    c = np.zeros(n - 1)\n",
    "    s = np.zeros(n - 1)\n",
    "\n",
    "    for k in range(n - 2):\n",
    "        c[k], s[k] = givcos(H[k, k], H[k + 1, k])\n",
    "        H = garrow(H, c[k], s[k], k, k + 1, k, n - 1)\n",
    "    \n",
    "    R = H.copy()\n",
    "    Q = progdiv(c, s, n)\n",
    "\n",
    "    return Q, R, c, s\n",
    "\n",
    "def hessqr(A, n_iter):\n",
    "    T, Q = householder_method(A)\n",
    "    n = max(A.shape)\n",
    "\n",
    "    for j in range(n_iter):\n",
    "        Q, R, c, s = qrgivens(T)\n",
    "        T = R.copy()\n",
    "\n",
    "        for k in range(n - 1):\n",
    "            T = gacol(T, c[k], s[k], 0, k + 1, k, k + 1)\n",
    "\n",
    "    return T, Q, R"
   ]
  },
  {
   "cell_type": "code",
   "execution_count": 149,
   "metadata": {},
   "outputs": [],
   "source": [
    "T, Q, R = hessqr(A, 10)"
   ]
  },
  {
   "cell_type": "code",
   "execution_count": 150,
   "metadata": {},
   "outputs": [
    {
     "name": "stdout",
     "output_type": "stream",
     "text": [
      "[ 0.  0. -0.  0.]\n",
      "[-1.3 -0.   0.   0. ]\n",
      "[ 0.  0.  0. -0.]\n",
      "[0. 0. 0. 0.]\n",
      "[-0.    0.96 -0.   -0.  ]\n",
      "[-1. -0. -0. -0.]\n",
      "[0.   0.26 0.96 0.96]\n",
      "[ 0.  0. -0.  0.]\n",
      "[-0. -0.  0.  0.]\n",
      "[-0.    1.3   0.    4.77]\n",
      "[ 0.  0.  0. -0.]\n",
      "[0. 0. 0. 0.]\n"
     ]
    }
   ],
   "source": [
    "print(*T.round(2), sep='\\n')\n",
    "print(*Q.round(2), sep='\\n')\n",
    "print(*R.round(2), sep='\\n')"
   ]
  },
  {
   "cell_type": "code",
   "execution_count": null,
   "metadata": {},
   "outputs": [],
   "source": []
  }
 ],
 "metadata": {
  "kernelspec": {
   "display_name": "base",
   "language": "python",
   "name": "python3"
  },
  "language_info": {
   "codemirror_mode": {
    "name": "ipython",
    "version": 3
   },
   "file_extension": ".py",
   "mimetype": "text/x-python",
   "name": "python",
   "nbconvert_exporter": "python",
   "pygments_lexer": "ipython3",
   "version": "3.10.10"
  },
  "orig_nbformat": 4
 },
 "nbformat": 4,
 "nbformat_minor": 2
}
